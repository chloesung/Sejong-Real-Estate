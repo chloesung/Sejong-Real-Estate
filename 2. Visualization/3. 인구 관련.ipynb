{
 "cells": [
  {
   "cell_type": "markdown",
   "metadata": {},
   "source": [
    "## 3) 인구 관련"
   ]
  },
  {
   "cell_type": "code",
   "execution_count": null,
   "metadata": {
    "scrolled": false
   },
   "outputs": [],
   "source": [
    "df = population.set_index('id')"
   ]
  },
  {
   "cell_type": "markdown",
   "metadata": {},
   "source": [
    "### 청년층 비율"
   ]
  },
  {
   "cell_type": "code",
   "execution_count": null,
   "metadata": {
    "scrolled": true
   },
   "outputs": [],
   "source": [
    "# 2020년 데이터만 추출\n",
    "\n",
    "df2020 = df[['202010_20대_거주인구수','202010_30대_거주인구수','202010_40대_거주인구수',\n",
    "        '202010_50대_거주인구수','202010_60대_거주인구수','202010_70대_거주인구수',\n",
    "        '202010_80대_거주인구수','202010_90대_거주인구수','202010_100세이상_거주인구수']].fillna(0)\n",
    "\n",
    "# 청년층 비율 계산\n",
    "df2020['총합'] = df2020.sum(axis=1)\n",
    "df2020['청년층비율'] = 100*(df2020['202010_20대_거주인구수']+df2020['202010_30대_거주인구수'])/df2020['총합']\n",
    "df2020['노년층비율'] = 100*(df2020['202010_70대_거주인구수']+df2020['202010_80대_거주인구수']+\n",
    "                       df2020['202010_90대_거주인구수']+df2020['202010_100세이상_거주인구수'])/df2020['총합']\n",
    "df2020 = df2020.reset_index()\n",
    "\n",
    "# 시각화\n",
    "df2020 = pd.merge(df2020,geo,on='id',how='outer')\n",
    "df2020 = GeoDataFrame(df2020)\n",
    "plot_grid_map(df2020, col = '청년층비율' , title = '청년층',mode = 'cont_classify', k=10,\n",
    "              c_mode = 'FisherJenks', colors = 'YlGn', percen = True)"
   ]
  },
  {
   "cell_type": "code",
   "execution_count": null,
   "metadata": {
    "scrolled": true
   },
   "outputs": [],
   "source": [
    "pop2020 = df2020"
   ]
  },
  {
   "cell_type": "markdown",
   "metadata": {},
   "source": [
    "### 노년층 비율"
   ]
  },
  {
   "cell_type": "code",
   "execution_count": null,
   "metadata": {
    "scrolled": true
   },
   "outputs": [],
   "source": [
    "# 시각화\n",
    "plot_grid_map(df2020, col = '노년층비율' , title = '노년층',mode = 'cont_classify', k=10,\n",
    "              c_mode = 'FisherJenks', colors = 'YlGn', percen = True)"
   ]
  },
  {
   "cell_type": "markdown",
   "metadata": {},
   "source": [
    "### 전입자 수, 전출자 수 데이터"
   ]
  },
  {
   "cell_type": "code",
   "execution_count": null,
   "metadata": {
    "scrolled": true
   },
   "outputs": [],
   "source": [
    "# 전입자 수 데이터\n",
    "dfin = data20.groupby(['년월','세종전입행정동']).sum().unstack()\n",
    "dfin.columns = dfin.columns.droplevel(0)\n",
    "dfin = dfin.rename_axis(None, axis=1).fillna(0)\n",
    "\n",
    "# 전출자 수 데이터\n",
    "dfout = data21.groupby(['년월','세종전출행정동']).sum().unstack()\n",
    "dfout.columns = dfout.columns.droplevel(0)\n",
    "dfout = dfout.rename_axis(None, axis=1).fillna(0)\n",
    "\n",
    "# 인덱스 datetime 으로 변환\n",
    "dfin.index = pd.to_datetime(dfin.index, format='%Y%m')\n",
    "dfout.index = pd.to_datetime(dfout.index, format='%Y%m')"
   ]
  },
  {
   "cell_type": "code",
   "execution_count": null,
   "metadata": {
    "scrolled": true
   },
   "outputs": [],
   "source": [
    "#동별 순 전입자수 시각화\n",
    "from plotly.subplots import make_subplots\n",
    "\n",
    "df= dfin - dfout\n",
    "fig = make_subplots(rows=1, cols=1, shared_xaxes=True)\n",
    "for i in df.columns.tolist():\n",
    "    fig.add_trace(go.Scatter(x=df.index,y=df[i],\n",
    "             mode='lines', name=i))\n",
    "fig.update_layout(title='순 유입(전입자 수 - 전출자 수)', plot_bgcolor='#F8F7F1')\n",
    "fig.show()"
   ]
  },
  {
   "cell_type": "markdown",
   "metadata": {},
   "source": [
    "### 내지인 거래 비율"
   ]
  },
  {
   "cell_type": "code",
   "execution_count": null,
   "metadata": {
    "scrolled": true
   },
   "outputs": [],
   "source": [
    "# 전출 동네가 세종시인 비율 구하기\n",
    "data20['전출 동네'] = data20['전출시군구'] + ' ' + data20['전출읍면동']\n",
    "df = data20.groupby(['세종전입행정동','전출시군구']).sum()['전입자수'].unstack().transpose().fillna(0)\n",
    "df2 = df.transpose()\n",
    "df2['세종비율'] = 100*df.loc['세종특별자치시']/df.sum()\n",
    "df = DataFrame(df2['세종비율']).reset_index()\n",
    "\n",
    "# Data Merging\n",
    "df2 = pd.merge(df,data32,left_on='세종전입행정동',right_on='ADM_DR_NM',how='outer')\n",
    "df2 = GeoDataFrame(df2)\n",
    "\n",
    "# 시각화\n",
    "plot_grid_map(df2, col = '세종비율', title = '세종시 전입 비율',mode = 'cont_classify', k=10,\n",
    "              c_mode = 'FisherJenks', colors = 'YlGn', percen = True)"
   ]
  },
  {
   "cell_type": "markdown",
   "metadata": {},
   "source": [
    "### 전출시도별 전입자수 추이"
   ]
  },
  {
   "cell_type": "code",
   "execution_count": null,
   "metadata": {
    "scrolled": true
   },
   "outputs": [],
   "source": [
    "# 전출시도별 전입자수 추이\n",
    "data20_2 = data20.groupby([\"년월\",\"전출시\"]).count().reset_index()\n",
    "data20_2['년월'] = pd.to_datetime(data20_2['년월'], format='%Y%m')\n",
    "\n",
    "table = data20_2.pivot_table(index = ['년월'],columns=['전출시'])\n",
    "provinces = data20_2['전출시'].unique()\n",
    "\n",
    "fig = make_subplots(rows=6, cols=3,horizontal_spacing=0.05,subplot_titles=([f'<b>{prov}</b>' for prov in provinces]))\n",
    "\n",
    "for i, province in enumerate(provinces):\n",
    "    row, col, legend = i//3 + 1, i%3 + 1, False\n",
    "    if i == len(provinces)-1 :\n",
    "        legend = True\n",
    "    fig.add_trace(go.Scatter(x=table.index,y= table['전입자수'][province],\n",
    "                 mode='lines', name=col,showlegend=False), row=row, col=col)\n",
    "\n",
    "fig.update_layout(title='<b>시도별 세종시 전입자수 추이</b>',\n",
    "                  height = 2000,\n",
    "                  legend=dict(x=0.7, y=0.05, traceorder=\"normal\",\n",
    "                             font=dict(family=\"sans-serif\", size=18)), plot_bgcolor='#F8F7F1')    \n",
    "for i in fig['layout']['annotations']:\n",
    "    i['font'] = dict(size=9)\n",
    "\n",
    "fig.show()"
   ]
  },
  {
   "cell_type": "code",
   "execution_count": null,
   "metadata": {
    "scrolled": true
   },
   "outputs": [],
   "source": [
    "data20_2 = data20_2.groupby('년월').sum().reset_index()\n",
    "fig = px.bar(data20_2,x='년월',y = '전입자수', color_discrete_sequence=['navy'])\n",
    "fig.update_layout(title='<b>전출시도별 전입자수 추이</b>', plot_bgcolor='#F8F7F1')\n",
    "fig.show()"
   ]
  },
  {
   "cell_type": "code",
   "execution_count": null,
   "metadata": {
    "scrolled": true
   },
   "outputs": [],
   "source": [
    "# 순 전입자 수 구하기\n",
    "df = dfin - dfout\n",
    "df = DataFrame(df.sum()).reset_index()\n",
    "\n",
    "# Data Merging\n",
    "df2 = pd.merge(df,data32,left_on='index',right_on='ADM_DR_NM',how='outer')\n",
    "df2 = GeoDataFrame(df2)\n",
    "popin = df2\n",
    "\n",
    "# 시각화\n",
    "plot_grid_map(df2, col = 0 , title = '세종시 순전입자 수',mode = 'cont_classify', k=3,\n",
    "              c_mode = 'FisherJenks', colors = 'YlGn', percen = False)"
   ]
  },
  {
   "cell_type": "code",
   "execution_count": null,
   "metadata": {
    "scrolled": true
   },
   "outputs": [],
   "source": [
    "# 전입/전출 비율 구하기\n",
    "df = 100*dfin.sum()/dfout.sum()\n",
    "df = DataFrame(df).reset_index()\n",
    "\n",
    "# Data Merging\n",
    "df2 = pd.merge(df,data32,left_on='index',right_on='ADM_DR_NM',how='outer')\n",
    "df2 = GeoDataFrame(df2)\n",
    "\n",
    "# 시각화\n",
    "plot_grid_map(df2, col = 0 , title = '세종시 전입 전출 비율',mode = 'cont_classify', k=10,\n",
    "              c_mode = 'FisherJenks', colors = 'YlGn', percen = True)"
   ]
  },
  {
   "cell_type": "markdown",
   "metadata": {},
   "source": [
    "### 읍면동 별 인구 수"
   ]
  },
  {
   "cell_type": "code",
   "execution_count": null,
   "metadata": {
    "scrolled": true
   },
   "outputs": [],
   "source": [
    "df = data22[['읍면동','202012_남자(총_거주자_수)','202012_여자(총_거주자_수)']]\n",
    "emd = []\n",
    "for i in range(len(df)):\n",
    "    if df['읍면동'][i][2] == '면':\n",
    "        emd.append('면')\n",
    "    elif df['읍면동'][i][2] == '원':\n",
    "        emd.append('읍')\n",
    "        \n",
    "    elif df['읍면동'][i][2] == '동':\n",
    "        emd.append('동')\n",
    "    else:\n",
    "        emd.append('세종')\n",
    "df['emd'] = emd\n",
    "df['계'] = df['202012_남자(총_거주자_수)']+df['202012_여자(총_거주자_수)']"
   ]
  },
  {
   "cell_type": "code",
   "execution_count": null,
   "metadata": {
    "scrolled": true
   },
   "outputs": [],
   "source": [
    "dfdf = df.drop(0)\n",
    "dfdf = dfdf.groupby('emd').sum().reset_index()\n",
    "labels = dfdf['emd']\n",
    "values = dfdf['계']\n",
    "\n",
    "# Use `hole` to create a donut-like pie chart\n",
    "fig = go.Figure(data=[go.Pie(labels=labels, values=values, hole=.3, marker_colors=['#F5D042', '#0A174E', '#09663D'])])\n",
    "fig.update_layout(legend=dict(xanchor=\"left\",x=0.65),title='세종시 인구 수 비율',font=dict(size=18))\n",
    "fig.show()"
   ]
  },
  {
   "cell_type": "code",
   "execution_count": null,
   "metadata": {
    "scrolled": true
   },
   "outputs": [],
   "source": [
    "labels = ['남자', '여자']\n",
    "values = [176998, 177707]\n",
    "\n",
    "# Use `hole` to create a donut-like pie chart\n",
    "fig = go.Figure(data=[go.Pie(labels=labels, values=values, hole=.3, marker_colors=['b', 'r'])])\n",
    "fig.update_layout(legend=dict(xanchor=\"left\",x=0.65),title='세종시 인구 수 비율',font=dict(size=18))\n",
    "fig.show()"
   ]
  },
  {
   "cell_type": "markdown",
   "metadata": {},
   "source": [
    "### 읍면동 별 가구 수"
   ]
  },
  {
   "cell_type": "code",
   "execution_count": null,
   "metadata": {
    "scrolled": false
   },
   "outputs": [],
   "source": [
    "# 읍면동으로 나누기\n",
    "df = data28\n",
    "df['읍면동'] = df['읍면동'].str.replace(\" \", \"\") # 공백 제거\n",
    "\n",
    "emd = []\n",
    "for i in range(len(df)):\n",
    "    if df['읍면동'][i][2] == '면':\n",
    "        emd.append('면')\n",
    "    elif df['읍면동'][i][2] == '원':\n",
    "        emd.append('읍')\n",
    "    elif df['읍면동'][i][2] == '동':\n",
    "        emd.append('동')\n",
    "df['emd'] = emd"
   ]
  },
  {
   "cell_type": "code",
   "execution_count": null,
   "metadata": {
    "scrolled": true
   },
   "outputs": [],
   "source": [
    "import plotly.graph_objects as go\n",
    "\n",
    "dfdf = df.groupby('emd').sum().reset_index()\n",
    "labels = dfdf['emd']\n",
    "values = dfdf['계']\n",
    "\n",
    "# Use `hole` to create a donut-like pie chart\n",
    "fig = go.Figure(data=[go.Pie(labels=labels, values=values, hole=.3, marker_colors=['#F5D042', '#0A174E', '#09663D'])])\n",
    "fig.update_layout(legend=dict(xanchor=\"left\",x=0.65), title='세종시 가구 수 비율',font=dict(size=18))\n",
    "fig.show()"
   ]
  },
  {
   "cell_type": "markdown",
   "metadata": {},
   "source": [
    "### 1인 가구 비율"
   ]
  },
  {
   "cell_type": "code",
   "execution_count": null,
   "metadata": {
    "scrolled": true
   },
   "outputs": [],
   "source": [
    "df = data28\n",
    "df['읍면동'] = df['읍면동'].str.replace(\" \", \"\") # 공백 제거\n",
    "\n",
    "# 1인가구 비율 구하기\n",
    "df['1인가구 비율'] = 100*df['1인']/df['계']\n",
    "\n",
    "# 핵가족\n",
    "df['핵가족 비율'] = 100*(df['2인']+df['3인']+df['5인'])/df['계']\n",
    "\n",
    "# 대가족\n",
    "df['대가족 비율'] = 100*(df['6인']+df['7인']+df['8인']+df['9인']+df['10인이상'])/df['계']\n",
    "\n",
    "# Data Merging\n",
    "df2 = pd.merge(df,data32,left_on='읍면동',right_on='ADM_DR_NM',how='outer')\n",
    "df2 = GeoDataFrame(df2)\n",
    "\n",
    "# 시각화\n",
    "plot_grid_map(df2, col = '1인가구 비율' , title = '1인 가구 비율',mode = 'cont_classify', k=10,\n",
    "              c_mode = 'FisherJenks', colors = 'YlGn', percen = True)"
   ]
  },
  {
   "cell_type": "markdown",
   "metadata": {},
   "source": [
    "### 핵가족 가구 비율"
   ]
  },
  {
   "cell_type": "code",
   "execution_count": null,
   "metadata": {
    "scrolled": true
   },
   "outputs": [],
   "source": [
    "# 시각화\n",
    "plot_grid_map(df2, col = '핵가족 비율' , title = '핵가족 가구 비율',mode = 'cont_classify', k=10,\n",
    "              c_mode = 'FisherJenks', colors = 'YlGn', percen = True)"
   ]
  },
  {
   "cell_type": "markdown",
   "metadata": {},
   "source": [
    "### 대가족 가구 비율"
   ]
  },
  {
   "cell_type": "code",
   "execution_count": null,
   "metadata": {
    "scrolled": true
   },
   "outputs": [],
   "source": [
    "# 시각화\n",
    "plot_grid_map(df2, col = '대가족 비율' , title = '대가족 가구 비율',mode = 'cont_classify', k=10,\n",
    "              c_mode = 'FisherJenks', colors = 'YlGn', percen = True)"
   ]
  },
  {
   "cell_type": "markdown",
   "metadata": {},
   "source": [
    "### 거주 의사 데이터"
   ]
  },
  {
   "cell_type": "code",
   "execution_count": null,
   "metadata": {
    "scrolled": true
   },
   "outputs": [],
   "source": [
    "dat29 = data29.copy()\n",
    "dat29['긍정'] =  data29['매우 그런편임']+ data29['어느정도 그런편임']\n",
    "dat29['부정'] =  data29['약간 그렇지 않은편임']+ data29['전혀 그렇지 않은편임']\n",
    "dat29 = dat29.drop(['매우 그런편임','어느정도 그런편임','전혀 그렇지 않은편임','약간 그렇지 않은편임'],axis =1)"
   ]
  },
  {
   "cell_type": "code",
   "execution_count": null,
   "metadata": {
    "scrolled": true
   },
   "outputs": [],
   "source": [
    "# 데이터, 변수별 분리\n",
    "data29_dur = dat29.loc[6:7] # 거주기간별\n",
    "data29_mar = dat29.loc[25:27] # 결혼여부별 \n",
    "data29_hom = dat29.loc[38:40] # 주거점유형태별"
   ]
  },
  {
   "cell_type": "markdown",
   "metadata": {},
   "source": [
    "### 거주기간별 향후 거주 의사 "
   ]
  },
  {
   "cell_type": "code",
   "execution_count": null,
   "metadata": {
    "scrolled": true
   },
   "outputs": [],
   "source": [
    "df = data29_dur.transpose().reset_index().drop([0,1])\n",
    "for i in range(2):\n",
    "    # Use `hole` to create a donut-like pie chart\n",
    "    fig = go.Figure(data=[go.Pie(labels=df['index'], values=df[i+6], hole=.4, marker_colors=['#F5D042', '#0A174E', '#09663D'])])\n",
    "    fig.update_layout(legend=dict(xanchor=\"left\",x=0.65), title='향후 거주 의사',font=dict(size=18))\n",
    "    fig.show()"
   ]
  },
  {
   "cell_type": "markdown",
   "metadata": {},
   "source": [
    "### 주거점유형태별 향후 거주 의사 "
   ]
  },
  {
   "cell_type": "code",
   "execution_count": null,
   "metadata": {
    "scrolled": true
   },
   "outputs": [],
   "source": [
    "df = data29_hom.transpose().reset_index().drop([0,1])\n",
    "for i in range(3):\n",
    "    # Use `hole` to create a donut-like pie chart\n",
    "    fig = go.Figure(data=[go.Pie(labels=df['index'], values=df[i+38], hole=.4, marker_colors=['#F5D042', '#0A174E', '#09663D'])])\n",
    "    fig.update_layout(legend=dict(xanchor=\"left\",x=0.65), title='향후 거주 의사',font=dict(size=18))\n",
    "    fig.show()"
   ]
  }
 ],
 "metadata": {
  "kernelspec": {
   "display_name": "Python 3",
   "language": "python",
   "name": "python3"
  },
  "language_info": {
   "codemirror_mode": {
    "name": "ipython",
    "version": 3
   },
   "file_extension": ".py",
   "mimetype": "text/x-python",
   "name": "python",
   "nbconvert_exporter": "python",
   "pygments_lexer": "ipython3",
   "version": "3.8.2"
  }
 },
 "nbformat": 4,
 "nbformat_minor": 4
}
