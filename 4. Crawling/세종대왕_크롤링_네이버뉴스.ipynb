{
 "cells": [
  {
   "cell_type": "markdown",
   "metadata": {},
   "source": [
    "# 네이버 지도 크롤링"
   ]
  },
  {
   "cell_type": "markdown",
   "metadata": {},
   "source": [
    "### 크롤링 함수 정의"
   ]
  },
  {
   "cell_type": "code",
   "execution_count": null,
   "metadata": {},
   "outputs": [],
   "source": [
    "import requests\n",
    "from bs4 import BeautifulSoup\n",
    "import pandas as pd\n",
    "from datetime import datetime\n",
    "from fake_useragent import UserAgent\n",
    "import csv\n",
    "import time\n",
    "\n",
    "RESULT_PATH = '/Users/yoonjeonghyeon/Desktop/python/crawling/'\n",
    "now = datetime.now()\n",
    "\n",
    "def crawler(maxpage, query, s_date, e_date, year):\n",
    "    s_from = s_date.replace(\".\", \"\") # 시작 날짜 설정\n",
    "    e_to = e_date.replace(\".\", \"\") # 종료 날짜 설정\n",
    "    page = 1\n",
    "    maxpage_t = (int(maxpage) - 1) * 10 + 1    \n",
    "    path = \"/Users/yoonjeonghyeon/Desktop/python/crawling/sejong\"+ year +\".csv\" # 파일에 저장\n",
    "    f = open(path, 'w', encoding = 'utf-8')\n",
    "\n",
    "    wr = csv.writer(f)\n",
    "    wr.writerow(['years','company','title','contents','link'])\n",
    "    \n",
    "    while page < maxpage_t:\n",
    "        \n",
    "        url = 'https://search.naver.com/search.naver?where=news&query=' + query + '&sort=0&ds=' + s_date + '&de=' + e_date + '&nso=so%3Ar%2Cp%3Afrom' + s_from + 'to' + e_to + '%2Ca%3A&start=' + str(page)\n",
    "\n",
    "        # ua = UserAgent()\n",
    "        # headers = {'User-Agent' : ua.random}\n",
    "\n",
    "        req = requests.get(url)\n",
    "        \n",
    "        cont = req.content\n",
    "        soup = BeautifulSoup(cont, 'html.parser')\n",
    "        \n",
    "        for urls in soup.select(\"a.info\"):\n",
    "            \n",
    "            try:\n",
    "                if urls[\"href\"].startswith(\"https://news.naver.com\"):\n",
    "                        news_detail = []\n",
    "                        \n",
    "                        ua = UserAgent()\n",
    "                        headers = {\"User-Agent\" : ua.random}\n",
    "                        \n",
    "                        breq = requests.get(urls[\"href\"], headers = headers)\n",
    "                        bsoup = BeautifulSoup(breq.content, 'html.parser')\n",
    "                        \n",
    "                        # 뉴스 제목 크롤링\n",
    "                        title = bsoup.select('h3#articleTitle')[0].text\n",
    "                        news_detail.append(title)\n",
    "                        \n",
    "                        # 뉴스 날짜 크롤링\n",
    "                        pdate = bsoup.select('.t11')[0].get_text()[:11]\n",
    "                        news_detail.append(pdate)\n",
    "                        \n",
    "                        # 뉴스 본문 크롤링\n",
    "                        _text = bsoup.select('#articleBodyContents')[0].get_text().replace('\\n', \" \")\n",
    "                        btext = _text.replace(\"// flash 오류를 우회하기 위한 함수 추가 function _flash_removeCallback() {}\", \"\")\n",
    "                        \n",
    "                        news_detail.append(btext.strip())\n",
    "                        news_detail.append(urls[\"href\"])\n",
    "                        \n",
    "                        # 뉴스 언론사 크롤링\n",
    "                        pcompany = bsoup.select('#footer address')[0].a.get_text()\n",
    "                        news_detail.append(pcompany)\n",
    "                                            \n",
    "                        wr.writerow([news_detail[1].replace(',',''), news_detail[4].replace(',',''), news_detail[0].replace(',',''),\n",
    "                                    news_detail[2].replace(',',''), news_detail[3].replace(',','')])\n",
    "            except Exception as e:\n",
    "                continue\n",
    "        page += 10\n",
    "        \n",
    "    print('Completed!')\n",
    "    \n",
    "    f.close()"
   ]
  },
  {
   "cell_type": "markdown",
   "metadata": {},
   "source": [
    "### 크롤링 코드 실행"
   ]
  },
  {
   "cell_type": "code",
   "execution_count": null,
   "metadata": {},
   "outputs": [],
   "source": [
    "# 2017년 뉴스 크롤링\n",
    "crawler(100000, '세종시 부동산', '2017.01.01', '2017.12.31', '2017')\n",
    "# 2018년 뉴스 크롤링\n",
    "crawler(100000, '세종시 부동산', '2018.01.01', '2018.12.31', '2018')\n",
    "# 2019년 뉴스 크롤링\n",
    "crawler(100000, '세종시 부동산', '2019.01.01', '2019.12.31', '2019')\n",
    "# 2020년 뉴스 크롤링\n",
    "crawler(100000, '세종시 부동산', '2020.01.01', '2020.12.31', '2020')"
   ]
  }
 ],
 "metadata": {
  "kernelspec": {
   "display_name": "Python 3",
   "language": "python",
   "name": "python3"
  },
  "language_info": {
   "codemirror_mode": {
    "name": "ipython",
    "version": 3
   },
   "file_extension": ".py",
   "mimetype": "text/x-python",
   "name": "python",
   "nbconvert_exporter": "python",
   "pygments_lexer": "ipython3",
   "version": "3.6.9"
  }
 },
 "nbformat": 4,
 "nbformat_minor": 2
}
