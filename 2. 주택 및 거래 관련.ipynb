{
 "cells": [
  {
   "cell_type": "markdown",
   "metadata": {},
   "source": [
    "## 2) 주택 및 거래 관련"
   ]
  },
  {
   "cell_type": "markdown",
   "metadata": {},
   "source": [
    "### 주택 나이 데이터"
   ]
  },
  {
   "cell_type": "code",
   "execution_count": null,
   "metadata": {
    "scrolled": true
   },
   "outputs": [],
   "source": [
    "# 주택 나이 나타내는 column 추가\n",
    "df = pd.merge(house,res,on='대지위치',how='right')[['X','Y','사용승인일']]\n",
    "df = df.dropna()\n",
    "df['사용연도'] = df['사용승인일'].astype(str).str[:4]\n",
    "df['사용연도'] = 2022 - df['사용연도'].astype(int)\n",
    "\n",
    "# 그리드 별 평균 구해주기\n",
    "df = plus_grid(df, geo, 'X', 'Y').groupby('id').mean()\n",
    "df = pd.merge(df,geo,on='id',how='outer')\n",
    "df = GeoDataFrame(df)\n",
    "age = df[['id','사용연도']].fillna(0)\n",
    "\n",
    "# 시각화\n",
    "plot_grid_map(df, col = '사용연도', title = '건축 연한', k=10,\n",
    "              mode = 'cont_classify',c_mode = 'FisherJenks', colors = 'Purples', percen = False)"
   ]
  },
  {
   "cell_type": "markdown",
   "metadata": {},
   "source": [
    "### 주택 매매 데이터"
   ]
  },
  {
   "cell_type": "code",
   "execution_count": null,
   "metadata": {
    "scrolled": true
   },
   "outputs": [],
   "source": [
    "from functools import reduce\n",
    "col = ['id','계약년월','평당가격','geometry','입력주소']\n",
    "dfs = [apt_buy[col],vil_buy[col],ops_buy[col]]\n",
    "buy = reduce(lambda left, right: pd.merge(left, right, on=col, how='outer'), dfs)"
   ]
  },
  {
   "cell_type": "code",
   "execution_count": null,
   "metadata": {
    "scrolled": true
   },
   "outputs": [],
   "source": [
    "# 상승장 이전 이후로 나누기\n",
    "before1 = buy.loc[buy['계약년월']<201910] #상승장 이전\n",
    "after1 = buy[buy['계약년월']>201909] #상승장 이후\n",
    "\n",
    "# 그리드 당 평균 매매 가격구하기\n",
    "before = DataFrame(before1.groupby(['id']).mean()['평당가격']).reset_index()\n",
    "after = DataFrame(after1.groupby(['id','계약년월']).mean()['평당가격']).reset_index()\n",
    "all = DataFrame(buy.groupby(['id','계약년월']).mean()['평당가격']).reset_index()\n",
    "\n",
    "# datetime으로 바꾸기\n",
    "from datetime import datetime\n",
    "after['계약년월'] = pd.to_datetime(after['계약년월'], format='%Y%m')\n",
    "all['계약년월'] = pd.to_datetime(all['계약년월'], format='%Y%m')"
   ]
  },
  {
   "cell_type": "code",
   "execution_count": null,
   "metadata": {
    "scrolled": true
   },
   "outputs": [],
   "source": [
    "all.to_csv('grid_price.csv', encoding='utf-8')"
   ]
  },
  {
   "cell_type": "code",
   "execution_count": null,
   "metadata": {
    "scrolled": true
   },
   "outputs": [],
   "source": [
    "# 추이 간단히 시각화\n",
    "plt.figure(figsize=(10,5))\n",
    "for i in all['id'].unique().tolist():\n",
    "    d_ = all[(all[\"id\"]==i)]\n",
    "    plt.plot(d_[\"계약년월\"], d_[\"평당가격\"], \"-\", alpha=.6)\n",
    "plt.grid()\n",
    "plt.title('매매 가격 추이', fontproperties=nanumr)\n",
    "plt.xticks(rotation=90)\n",
    "plt.show()"
   ]
  },
  {
   "cell_type": "markdown",
   "metadata": {},
   "source": [
    "### 상승장 이전 매매 가격 평균"
   ]
  },
  {
   "cell_type": "code",
   "execution_count": null,
   "metadata": {
    "scrolled": true
   },
   "outputs": [],
   "source": [
    "df_before = pd.merge(before,geo,on='id',how='outer')\n",
    "df_before = GeoDataFrame(df_before)\n",
    "\n",
    "# 시각화\n",
    "plot_grid_map(df_before, # 데이터: 격자 - 수치변수 이렇게 두개만 들어와 있는 GeoDataFrame 형태여야함\n",
    "              col = '평당가격', # 수치변수 들어와있는 컬럼명\n",
    "              title = '상승장 이전 매매가격 평균', # 시각화에 붙이고 싶은 제목 \n",
    "              k =10, # 수치변수를 몇단계로 나누고 싶은지\n",
    "              mode = 'cont_classify', #FisherJenks나 NaturalBreaks(KMeans) 쓸거면 얘 그냥 적으면 됨\n",
    "              c_mode = 'FisherJenks', #케이민즈 쓰고 싶으면 NaturalBreaks 쓰기\n",
    "              colors = 'Greens', #쓰고 싶은 색깔,, Blues Greens Purples 등등 다 가능함\n",
    "              percen = False)"
   ]
  },
  {
   "cell_type": "markdown",
   "metadata": {},
   "source": [
    "### 매매 거래 건수"
   ]
  },
  {
   "cell_type": "code",
   "execution_count": null,
   "metadata": {
    "scrolled": true
   },
   "outputs": [],
   "source": [
    "df = buy.dropna()\n",
    "df = df.groupby('id').count().reset_index()[['id','평당가격']]\n",
    "df = pd.merge(df,geo,on='id',how='outer')\n",
    "df = GeoDataFrame(df)\n",
    "\n",
    "# 시각화\n",
    "plot_grid_map(df, col = '평당가격', title = '매매 거래 건수', k=10,\n",
    "              mode = 'cont_classify',c_mode = 'FisherJenks', colors = 'Blues', percen = False)"
   ]
  },
  {
   "cell_type": "code",
   "execution_count": null,
   "metadata": {
    "scrolled": true
   },
   "outputs": [],
   "source": [
    "df = before1.dropna()\n",
    "df = df.groupby('id').count().reset_index()[['id','평당가격']]\n",
    "df = pd.merge(df,geo,on='id',how='outer')\n",
    "df = GeoDataFrame(df)\n",
    "\n",
    "# 시각화\n",
    "plot_grid_map(df, col = '평당가격', title = '상승장 이전 매매 거래 건수', k=10,\n",
    "              mode = 'cont_classify',c_mode = 'FisherJenks', colors = 'Blues', percen = False)"
   ]
  },
  {
   "cell_type": "code",
   "execution_count": null,
   "metadata": {
    "scrolled": true
   },
   "outputs": [],
   "source": [
    "df = after1.dropna()\n",
    "df = df.groupby('id').count().reset_index()[['id','평당가격']]\n",
    "df = pd.merge(df,geo,on='id',how='outer')\n",
    "df = GeoDataFrame(df)\n",
    "\n",
    "# 시각화\n",
    "plot_grid_map(df, col = '평당가격', title = '상승장 이후 매매 거래 건수', k=10,\n",
    "              mode = 'cont_classify',c_mode = 'FisherJenks', colors = 'Blues', percen = False)"
   ]
  },
  {
   "cell_type": "markdown",
   "metadata": {},
   "source": [
    "### 매매 실거래가 추이 Clustering"
   ]
  },
  {
   "cell_type": "code",
   "execution_count": null,
   "metadata": {
    "scrolled": true
   },
   "outputs": [],
   "source": [
    "#그리드 당 매매가격 불러오기\n",
    "grid_price = all.copy()\n",
    "\n",
    "#계약년월 열에 날짜 속성 부여 \n",
    "grid_price_n = grid_price.set_index('계약년월')\n",
    "\n",
    "#1년 단위로 자료 resampling\n",
    "grid_price_y = grid_price_n.groupby('id')['평당가격'].resample('Y').mean().reset_index()\n",
    "grid_price_y['year'] = grid_price_y['계약년월'].dt.year\n",
    "\n",
    "df1 = grid_price_y.pivot(index='id', columns='year', values='평당가격').reset_index()\n",
    "\n",
    "#결측치 3개 이상인 값 drop\n",
    "df1.dropna(thresh=3, inplace=True)\n",
    "\n",
    "#결측치 0으로 대체\n",
    "df1.fillna(0, inplace=True)\n",
    "value = df1.iloc[:,1:]"
   ]
  },
  {
   "cell_type": "code",
   "execution_count": null,
   "metadata": {
    "scrolled": true
   },
   "outputs": [],
   "source": [
    "#AgglomerativeClustering을 이용하여, 7개의 군집으로 clustering\n",
    "cluster_price = AgglomerativeClustering(n_clusters=7, affinity='euclidean', linkage='ward')\n",
    "cluster_price.fit_predict(value)\n",
    "df1[\"cluster\"] = cluster_price.fit_predict(value)\n",
    "df2 = pd.melt(df1, id_vars=['id'], value_vars=df1.iloc[:,1:-1], value_name='평당가격')\n",
    "df3 = df1[['id', 'cluster']]\n",
    "df4 = pd.merge(df2, df3, on = 'id', how = 'left')\n",
    "\n",
    "#연도만 따로 추출한 year 열에 날짜 속성 부여\n",
    "df4['year'] = pd.to_datetime(df4['year'], format='%Y')"
   ]
  },
  {
   "cell_type": "code",
   "execution_count": null,
   "metadata": {
    "scrolled": true
   },
   "outputs": [],
   "source": [
    "#군집 순서를 완만->급격 순으로 임의 조정\n",
    "df4['cluster_n'] = df4['cluster'] + 10\n",
    "df4['cluster_n'].replace(to_replace=[10,11,12,13,14,15,16], value= [0,2,6,3,1,5,4], inplace=True)\n",
    "df4 = df4.drop(['cluster'], axis=1)\n",
    "df4.rename(columns = {'cluster_n':'cluster'}, inplace=True)\n",
    "\n",
    "#군집 순서를 완만->급격 순으로 임의 조정\n",
    "df_price = df1[['id', 'cluster']]\n",
    "df_price['cluster_n'] = df_price['cluster'] + 10\n",
    "df_price['cluster_n'].replace(to_replace=[10,11,12,13,14,15,16], value= [0,2,6,3,1,5,4], inplace=True)\n",
    "df_price = df_price.drop(['cluster'], axis=1)\n",
    "df_price.rename(columns = {'cluster_n':'cluster'}, inplace=True)"
   ]
  },
  {
   "cell_type": "markdown",
   "metadata": {},
   "source": [
    "### 클러스터 별 plot"
   ]
  },
  {
   "cell_type": "code",
   "execution_count": null,
   "metadata": {
    "scrolled": true
   },
   "outputs": [],
   "source": [
    "#군집1 plot\n",
    "cluster_1 = df4[df4['cluster'] == 0]\n",
    "\n",
    "plt.figure(figsize=(10,5))\n",
    "for i in cluster_1['id'].unique().tolist():\n",
    "    d_ = cluster_1[(cluster_1[\"id\"]==i)]\n",
    "    plt.plot(d_[\"year\"], d_[\"평당가격\"], \"-\", alpha=.6)\n",
    "plt.grid()\n",
    "plt.title('군집1_매매가격 추이', fontproperties=nanumr)\n",
    "plt.xticks(rotation=90)\n",
    "plt.show()"
   ]
  },
  {
   "cell_type": "code",
   "execution_count": null,
   "metadata": {
    "scrolled": true
   },
   "outputs": [],
   "source": [
    "#군집2 plot\n",
    "cluster_2 = df4[df4['cluster'] == 1]\n",
    "\n",
    "plt.figure(figsize=(10,5))\n",
    "for i in cluster_2['id'].unique().tolist():\n",
    "    d_ = cluster_2[(cluster_2[\"id\"]==i)]\n",
    "    plt.plot(d_[\"year\"], d_[\"평당가격\"], \"-\", alpha=.6)\n",
    "plt.grid()\n",
    "plt.title('군집2_매매가격 추이', fontproperties=nanumr)\n",
    "plt.xticks(rotation=90)\n",
    "plt.show()"
   ]
  },
  {
   "cell_type": "code",
   "execution_count": null,
   "metadata": {
    "scrolled": true
   },
   "outputs": [],
   "source": [
    "#군집3 plot\n",
    "cluster_3 = df4[df4['cluster'] == 2]\n",
    "\n",
    "plt.figure(figsize=(10,5))\n",
    "for i in cluster_3['id'].unique().tolist():\n",
    "    d_ = cluster_3[(cluster_3[\"id\"]==i)]\n",
    "    plt.plot(d_[\"year\"], d_[\"평당가격\"], \"-\", alpha=.6)\n",
    "plt.grid()\n",
    "plt.title('군집3_매매가격 추이', fontproperties=nanumr)\n",
    "plt.xticks(rotation=90)\n",
    "plt.show()"
   ]
  },
  {
   "cell_type": "code",
   "execution_count": null,
   "metadata": {
    "scrolled": true
   },
   "outputs": [],
   "source": [
    "#군집4 plot\n",
    "cluster_4 = df4[df4['cluster'] == 3]\n",
    "\n",
    "plt.figure(figsize=(10,5))\n",
    "for i in cluster_4['id'].unique().tolist():\n",
    "    d_ = cluster_4[(cluster_4[\"id\"]==i)]\n",
    "    plt.plot(d_[\"year\"], d_[\"평당가격\"], \"-\", alpha=.6)\n",
    "plt.grid()\n",
    "plt.title('군집4_매매가격 추이', fontproperties=nanumr)\n",
    "plt.xticks(rotation=90)\n",
    "plt.show()"
   ]
  },
  {
   "cell_type": "code",
   "execution_count": null,
   "metadata": {
    "scrolled": false
   },
   "outputs": [],
   "source": [
    "#군집5 plot\n",
    "cluster_5 = df4[df4['cluster'] == 4]\n",
    "\n",
    "plt.figure(figsize=(10,5))\n",
    "for i in cluster_5['id'].unique().tolist():\n",
    "    d_ = cluster_5[(cluster_5[\"id\"]==i)]\n",
    "    plt.plot(d_[\"year\"], d_[\"평당가격\"], \"-\", alpha=.6)\n",
    "plt.grid()\n",
    "plt.title('군집5_매매가격 추이', fontproperties=nanumr)\n",
    "plt.xticks(rotation=90)\n",
    "plt.show()"
   ]
  },
  {
   "cell_type": "code",
   "execution_count": null,
   "metadata": {
    "scrolled": true
   },
   "outputs": [],
   "source": [
    "#군집6 plot\n",
    "cluster_6 = df4[df4['cluster'] == 5]\n",
    "\n",
    "plt.figure(figsize=(10,5))\n",
    "for i in cluster_6['id'].unique().tolist():\n",
    "    d_ = cluster_6[(cluster_6[\"id\"]==i)]\n",
    "    plt.plot(d_[\"year\"], d_[\"평당가격\"], \"-\", alpha=.6)\n",
    "plt.grid()\n",
    "plt.title('군집6_매매가격 추이', fontproperties=nanumr)\n",
    "plt.xticks(rotation=90)\n",
    "plt.show()"
   ]
  },
  {
   "cell_type": "code",
   "execution_count": null,
   "metadata": {
    "scrolled": false
   },
   "outputs": [],
   "source": [
    "#군집7 plot\n",
    "cluster_7 = df4[df4['cluster'] == 6]\n",
    "\n",
    "plt.figure(figsize=(10,5))\n",
    "for i in cluster_7['id'].unique().tolist():\n",
    "    d_ = cluster_7[(cluster_7[\"id\"]==i)]\n",
    "    plt.plot(d_[\"year\"], d_[\"평당가격\"], \"-\", alpha=.6)\n",
    "plt.grid()\n",
    "plt.title('군집7_매매가격 추이', fontproperties=nanumr)\n",
    "plt.xticks(rotation=90)\n",
    "plt.show()"
   ]
  },
  {
   "cell_type": "code",
   "execution_count": null,
   "metadata": {
    "scrolled": true
   },
   "outputs": [],
   "source": [
    "#격자 데이터와 병합\n",
    "price_merge = pd.merge(df_price, geo, on = 'id', how = 'right')\n",
    "\n",
    "#cluster 순서에 따라 데이터 정렬\n",
    "price_merge.sort_values('cluster', inplace=True)\n",
    "\n",
    "#geodataframe으로 변환\n",
    "price_merge = gpd.GeoDataFrame(price_merge)"
   ]
  },
  {
   "cell_type": "code",
   "execution_count": null,
   "metadata": {
    "scrolled": true
   },
   "outputs": [],
   "source": [
    "# 시각화\n",
    "plot_grid_map(price_merge, col = 'cluster', title = '평당가격 클러스터링', mode = 'cluster',\n",
    "              c_mode = 'NaturalBreaks', colors = 'Blues', percen = False)"
   ]
  },
  {
   "cell_type": "markdown",
   "metadata": {},
   "source": [
    "### 주택 전세 데이터"
   ]
  },
  {
   "cell_type": "code",
   "execution_count": null,
   "metadata": {
    "scrolled": true
   },
   "outputs": [],
   "source": [
    "from functools import reduce\n",
    "col = ['id','계약년월','평당가격','geometry','입력주소']\n",
    "dfs = [apt_full[col],vil_full[col],ops_full[col]]\n",
    "full = reduce(lambda left, right: pd.merge(left, right, on=col, how='outer'), dfs)"
   ]
  },
  {
   "cell_type": "code",
   "execution_count": null,
   "metadata": {
    "scrolled": true
   },
   "outputs": [],
   "source": [
    "# 그리드 당 평균 전세 가격구하기\n",
    "df = DataFrame(full.groupby(['id','계약년월']).mean()['평당가격']).reset_index()\n",
    "\n",
    "# datetime으로 바꾸기\n",
    "from datetime import datetime\n",
    "df['계약년월'] = pd.to_datetime(df['계약년월'], format='%Y%m')\n",
    "\n",
    "# 추이 간단히 시각화\n",
    "plt.figure(figsize=(10,5))\n",
    "for i in df['id'].unique().tolist():\n",
    "    d_ = df[(df[\"id\"]==i)]\n",
    "    plt.plot(d_[\"계약년월\"], d_[\"평당가격\"], \"-\", alpha=.6)\n",
    "plt.grid()\n",
    "plt.title('전세 가격 추이', fontproperties=nanumr)\n",
    "plt.xticks(rotation=90)\n",
    "plt.show()"
   ]
  },
  {
   "cell_type": "markdown",
   "metadata": {},
   "source": [
    "### 주택 임대 데이터"
   ]
  },
  {
   "cell_type": "code",
   "execution_count": null,
   "metadata": {
    "scrolled": true
   },
   "outputs": [],
   "source": [
    "from functools import reduce\n",
    "col = ['id','계약년월', 'geometry','입력주소']\n",
    "dfs = [apt_rent[col],vil_rent[col],ops_rent[col]]\n",
    "rent = reduce(lambda left, right: pd.merge(left, right, on=col, how='outer'), dfs)\n",
    "before2 = rent[rent['계약년월']<201910] #상승장 이전\n",
    "after2 = rent[rent['계약년월']>201909] #상승장 이후"
   ]
  },
  {
   "cell_type": "code",
   "execution_count": null,
   "metadata": {
    "scrolled": true
   },
   "outputs": [],
   "source": [
    "# 그리드 당 평균 임대 건수구하기\n",
    "df = DataFrame(rent.groupby(['id','계약년월']).count()['입력주소']).reset_index()\n",
    "\n",
    "# datetime으로 바꾸기\n",
    "from datetime import datetime\n",
    "df['계약년월'] = pd.to_datetime(df['계약년월'], format='%Y%m')\n",
    "\n",
    "# 추이 간단히 시각화\n",
    "plt.figure(figsize=(10,5))\n",
    "for i in df['id'].unique().tolist():\n",
    "    d_ = df[(df[\"id\"]==i)]\n",
    "    plt.plot(d_[\"계약년월\"], d_[\"입력주소\"], \"-\", alpha=.6)\n",
    "plt.grid()\n",
    "plt.legend(fontsize=13)\n",
    "plt.xticks(rotation=90)\n",
    "plt.show()"
   ]
  },
  {
   "cell_type": "markdown",
   "metadata": {},
   "source": [
    "### 임대 거래 건수"
   ]
  },
  {
   "cell_type": "code",
   "execution_count": null,
   "metadata": {
    "scrolled": true
   },
   "outputs": [],
   "source": [
    "df = rent.dropna()\n",
    "df = df.groupby('id').count().reset_index()[['id','입력주소']]\n",
    "df = pd.merge(df,geo,on='id',how='outer')\n",
    "df = GeoDataFrame(df)\n",
    "\n",
    "# 시각화\n",
    "plot_grid_map(df, col = '입력주소', title = '임대 거래 건수', mode = 'cont_classify', k=10,\n",
    "              c_mode = 'FisherJenks', colors = 'Blues', percen = False)"
   ]
  },
  {
   "cell_type": "code",
   "execution_count": null,
   "metadata": {
    "scrolled": true
   },
   "outputs": [],
   "source": [
    "df = before2.dropna()\n",
    "df = df.groupby('id').count().reset_index()[['id','입력주소']]\n",
    "df = pd.merge(df,geo,on='id',how='outer')\n",
    "df = GeoDataFrame(df)\n",
    "\n",
    "# 시각화\n",
    "plot_grid_map(df, col = '입력주소', title = '상승장 이전 임대 거래 건수', mode = 'cont_classify', k=10,\n",
    "              c_mode = 'FisherJenks', colors = 'Blues', percen = False)"
   ]
  },
  {
   "cell_type": "code",
   "execution_count": null,
   "metadata": {
    "scrolled": true
   },
   "outputs": [],
   "source": [
    "df = after2.dropna()\n",
    "df = df.groupby('id').count().reset_index()[['id','입력주소']]\n",
    "df = pd.merge(df,geo,on='id',how='outer')\n",
    "df = GeoDataFrame(df)\n",
    "\n",
    "# 시각화\n",
    "plot_grid_map(df, col = '입력주소', title = '상승장 이후 임대 거래 건수', mode = 'cont_classify', k=10,\n",
    "              c_mode = 'FisherJenks', colors = 'Blues', percen = False)"
   ]
  },
  {
   "cell_type": "markdown",
   "metadata": {},
   "source": [
    "### 행정동별 전세가율 추이"
   ]
  },
  {
   "cell_type": "code",
   "execution_count": null,
   "metadata": {
    "scrolled": true
   },
   "outputs": [],
   "source": [
    "# 아파트 데이터만 불러오기\n",
    "aptb = apt_buy.dropna()\n",
    "aptf = apt_full.dropna()\n",
    "aptb['시군구'] = aptb['시군구'].str[8:11]\n",
    "aptf['시군구'] = aptf['시군구'].str[8:11]\n",
    "\n",
    "# 날짜 별로 정렬\n",
    "aptf = DataFrame(aptf.groupby(['시군구','입력주소','계약년월']).mean()['평당가격']).reset_index()\n",
    "aptb = DataFrame(aptb.groupby(['시군구','입력주소','계약년월']).mean()['평당가격']).reset_index()\n",
    "\n",
    "df2 = pd.merge(aptb, aptf, on=['시군구','입력주소', '계약년월'], how='outer')\n",
    "df2['전세가율'] = 100*df2['평당가격_y']/df2['평당가격_x']\n",
    "df2['계약년월'] = pd.to_datetime(df2['계약년월'], format='%Y%m')\n",
    "\n",
    "df2 = df2.dropna().groupby(['시군구', '계약년월']).mean().unstack()['전세가율'].transpose()\n",
    "\n",
    "# 시각화\n",
    "fig = make_subplots(rows=1, cols=1, shared_xaxes=True)\n",
    "for i in df2.columns.tolist():\n",
    "    fig.add_trace(go.Scatter(x=df2.index,y=df2[i],\n",
    "             mode='lines', name=i))\n",
    "fig.update_layout(title='세종시 전세가율 추이', plot_bgcolor='#F8F7F1')\n",
    "fig.show()"
   ]
  },
  {
   "cell_type": "code",
   "execution_count": null,
   "metadata": {
    "scrolled": true
   },
   "outputs": [],
   "source": [
    "# Data Merging\n",
    "df2 = DataFrame(df2.mean()).reset_index()\n",
    "df2 = df2.replace('조치원','조치원읍')\n",
    "df2 = pd.merge(df2,data31,left_on='시군구',right_on='EMD_KOR_NM',how='outer')\n",
    "df2 = GeoDataFrame(df2)\n",
    "\n",
    "# 시각화\n",
    "plot_grid_map(df2, col = 0, title = '전세가율',mode = 'cont_classify', k=10,\n",
    "              c_mode = 'FisherJenks', colors = 'Blues', percen = True)"
   ]
  },
  {
   "cell_type": "markdown",
   "metadata": {},
   "source": [
    "### 공시지가 변동률"
   ]
  },
  {
   "cell_type": "code",
   "execution_count": null,
   "metadata": {
    "scrolled": true
   },
   "outputs": [],
   "source": [
    "# 연도별 공시지가 변동률 구하기\n",
    "\n",
    "df = gongsi.groupby(['지번주소','id','기준년도']).mean()['공시지가'].unstack()\n",
    "df = df.dropna(thresh=2)\n",
    "df = df.reset_index()\n",
    "\n",
    "# 변동률이기에 로그 근사 시켜주기\n",
    "\n",
    "df['17-18'] = (df[2018.0] - df[2017.0])/df[2017.0] +1\n",
    "df['18-19'] = (df[2019.0] - df[2018.0])/df[2018.0] +1\n",
    "df['19-20'] = (df[2020.0] - df[2019.0])/df[2019.0] +1\n",
    "\n",
    "df[['17-18','18-19','19-20']] = np.log(df[['17-18','18-19','19-20']])\n",
    "df[[2017.0, 2018.0, 2019.0, 2020.0]] = df[[2017.0, 2018.0, 2019.0, 2020.0]]*3.3/10000\n",
    "df.fillna(0)\n",
    "df['변동률'] = (df['17-18'] + df['18-19'] + df['19-20'])*100/3\n",
    "gongsi2 = df.groupby('id').mean().reset_index()"
   ]
  },
  {
   "cell_type": "code",
   "execution_count": null,
   "metadata": {
    "scrolled": true
   },
   "outputs": [],
   "source": [
    "gongsi2 = pd.merge(gongsi2,geo,on='id',how='outer')\n",
    "df2 = GeoDataFrame(gongsi2)\n",
    "\n",
    "# 시각화\n",
    "plot_grid_map(df2, col = '변동률', title = '공시지가 변동률',mode = 'cont_classify', k=10,\n",
    "              c_mode = 'FisherJenks', colors = 'BuGn', percen = True)"
   ]
  },
  {
   "cell_type": "markdown",
   "metadata": {},
   "source": [
    "### 2020년 공시지가"
   ]
  },
  {
   "cell_type": "code",
   "execution_count": null,
   "metadata": {
    "scrolled": true
   },
   "outputs": [],
   "source": [
    "# 시각화\n",
    "plot_grid_map(df2, col = 2020.0, title = '2020년 공시지가',mode = 'cont_classify', k=10,\n",
    "              c_mode = 'FisherJenks', colors = 'BuGn', percen = False)"
   ]
  }
 ],
 "metadata": {
  "kernelspec": {
   "display_name": "Python 3",
   "language": "python",
   "name": "python3"
  },
  "language_info": {
   "codemirror_mode": {
    "name": "ipython",
    "version": 3
   },
   "file_extension": ".py",
   "mimetype": "text/x-python",
   "name": "python",
   "nbconvert_exporter": "python",
   "pygments_lexer": "ipython3",
   "version": "3.8.2"
  }
 },
 "nbformat": 4,
 "nbformat_minor": 4
}
