{
 "cells": [
  {
   "cell_type": "markdown",
   "metadata": {},
   "source": [
    "## 3) Multiple Regression Analysis\n",
    "\n",
    "- 두 개 이상의 연속형 독립변수가 연속형 종속변수에는 미치는 영향을 검증하는 분석 방법\n",
    "\n",
    "- 독립변수 분석: 종속변수와 관련이 있는 주요 독립변수 파악"
   ]
  },
  {
   "cell_type": "markdown",
   "metadata": {},
   "source": [
    "### 격자 Data  전처리"
   ]
  },
  {
   "cell_type": "code",
   "execution_count": null,
   "metadata": {
    "scrolled": true
   },
   "outputs": [],
   "source": [
    "# 격자데이터 읍면동별로 분류\n",
    "df = gpd.sjoin(geo, data32, op='intersects', how='left')\n",
    "dff = df.groupby('id').count().reset_index()\n",
    "fine = dff[dff['left'] == 1][['id','left']]#하나씩으로 정상적으로 나눠진 데이터\n",
    "fine = pd.merge(fine, df, on='id')[['id','ADM_DR_NM','left_x']]\n",
    "dff = dff[dff['left']>1][['id','left']] #두개 이상이 할당된 데이터\n",
    "df2 = pd.merge(dff, df, on='id')[['id','ADM_DR_NM','left_x']]\n",
    "\n",
    "# 조치원 부분만 처리\n",
    "eup = df2[df2['ADM_DR_NM'].str[3] == '읍']\n",
    "a = eup['id'].unique().tolist()\n",
    "eup = df2[df2['id'].isin(a)]\n",
    "df2 = df2.drop(eup.index)\n",
    "eup = eup[eup['ADM_DR_NM'].str[3] == '읍']\n",
    "\n",
    "\n",
    "# 중복되는 읍면동 drop\n",
    "dropdu = df2[['id','left_x']].drop_duplicates().index\n",
    "df2 = df2.loc[dropdu,:]\n",
    "done = pd.concat([fine, df2, eup])\n",
    "emdgeo = pd.merge(done,geo, on='id')"
   ]
  },
  {
   "cell_type": "code",
   "execution_count": null,
   "metadata": {
    "scrolled": true
   },
   "outputs": [],
   "source": [
    "# 읍면동 지역으로 나누어서 그리드 확인\n",
    "eup = emdgeo[emdgeo['ADM_DR_NM'].str[3] == '읍']\n",
    "myun = emdgeo[emdgeo['ADM_DR_NM'].str[2] == '면']\n",
    "dong = emdgeo[emdgeo['ADM_DR_NM'].str[2] == '동']\n",
    "\n",
    "print('읍: ', len(eup))\n",
    "print('면: ', len(myun))\n",
    "print('동: ', len(dong))"
   ]
  },
  {
   "cell_type": "code",
   "execution_count": null,
   "metadata": {
    "scrolled": true
   },
   "outputs": [],
   "source": [
    "# 지역구분 column 추가\n",
    "eup['지역 구분'] = '읍'\n",
    "myun['지역 구분'] = '면'\n",
    "dong['지역 구분'] = '동'\n",
    "df = pd.concat([eup, myun, dong])"
   ]
  },
  {
   "cell_type": "markdown",
   "metadata": {},
   "source": [
    "### 지수(생활 편의, 안전, 교통), 공시지가, 인구 데이터 Column으로 추가"
   ]
  },
  {
   "cell_type": "code",
   "execution_count": null,
   "metadata": {
    "scrolled": true
   },
   "outputs": [],
   "source": [
    "life_rate.columns = ['life','id']\n",
    "safety_rate.columns = ['safety','id']\n",
    "transport_rate.columns = ['transport','id']\n",
    "gs = gongsi2[['id',2020,'변동률']]\n",
    "gs.columns = ['id','공시지가','공시지가 변동률']\n",
    "pop2020 = pop2020[['id','총합']].fillna(0).replace(0,1)"
   ]
  },
  {
   "cell_type": "code",
   "execution_count": null,
   "metadata": {
    "scrolled": true
   },
   "outputs": [],
   "source": [
    "popin = popin[['index',0]].fillna(0)\n",
    "popin.columns = ['ADM_DR_NM','순전입자수']\n",
    "# 순전입자수가 너무 많기 때문에 scaling 진행\n",
    "min_max_scaler = MinMaxScaler(feature_range=(5,100))\n",
    "x=popin['순전입자수']\n",
    "x=x.to_numpy(dtype=float)\n",
    "x=x.reshape(-1,1)\n",
    "x1= min_max_scaler.fit_transform(x)\n",
    "popin['순전입자수'] = x1"
   ]
  },
  {
   "cell_type": "code",
   "execution_count": null,
   "metadata": {
    "scrolled": true
   },
   "outputs": [],
   "source": [
    "age = age.replace(0,1)"
   ]
  },
  {
   "cell_type": "code",
   "execution_count": null,
   "metadata": {
    "scrolled": true
   },
   "outputs": [],
   "source": [
    "from functools import reduce\n",
    "dfs = [df,life_rate,safety_rate,transport_rate, gs, age, pop2020]\n",
    "df_merge = reduce(lambda left, right: pd.merge(left, right, on='id', how='outer'), dfs, )\n",
    "df_merge = pd.merge(df_merge, popin, on='ADM_DR_NM')\n",
    "emd = df_merge.drop(['left_x','left','top','bottom','SIG_CD','SIG_KOR_NM'],axis=1)"
   ]
  },
  {
   "cell_type": "code",
   "execution_count": null,
   "metadata": {
    "scrolled": true
   },
   "outputs": [],
   "source": [
    "eup = emd[emd['지역 구분'] == '읍']\n",
    "myun = emd[emd['지역 구분'] == '면']\n",
    "dong = emd[emd['지역 구분'] == '동']"
   ]
  },
  {
   "cell_type": "markdown",
   "metadata": {},
   "source": [
    "### 다중선형회귀( Level-log Model) 함수 정의\n",
    "\n",
    "- x가 1%만큼 증가할 때 y가 $\\frac{\\beta}{100}$% 만큼 변하는 것을 의미하는 분석 방법 ➡︎ 독립변수를 단위화  \n",
    "  \n",
    "- 독립변수가 단위에 영향을 받지 않도록 행복지수, 안전지수, 교통지수에 대해서 Level-log Model을 사용"
   ]
  },
  {
   "cell_type": "code",
   "execution_count": null,
   "metadata": {
    "scrolled": true
   },
   "outputs": [],
   "source": [
    "from statsmodels.formula.api import ols\n",
    "\n",
    "def log(df):\n",
    "    # 공시지가 na 값 drop 후, na 아닌 데이터만 추출\n",
    "    df=df.reset_index()\n",
    "    df1=df['공시지가'].dropna()\n",
    "    index=df1.index\n",
    "    df=df.loc[index]\n",
    "    df = df.fillna(0)\n",
    "\n",
    "    # 로그 씌워주기\n",
    "    df['log생활지수']=np.log(df['life'])\n",
    "    df['log안전지수']=np.log(df['safety'])\n",
    "    df['log교통지수']=np.log(df['transport'])\n",
    "    df['log건축연한']=np.log(df['사용연도'])\n",
    "    df['건축연한']=df['사용연도']\n",
    "    df['log순전입자수']=np.log(df['순전입자수'])\n",
    "\n",
    "    return df\n",
    "\n",
    "def ourols(df, log=False):\n",
    "    # 회귀 돌려주기\n",
    "    res = ols('공시지가 ~ log생활지수+log안전지수+log교통지수+순전입자수', data=df).fit()\n",
    "        \n",
    "    return res"
   ]
  },
  {
   "cell_type": "markdown",
   "metadata": {},
   "source": [
    "### 읍 (log-level)"
   ]
  },
  {
   "cell_type": "code",
   "execution_count": null,
   "metadata": {
    "scrolled": true
   },
   "outputs": [],
   "source": [
    "res1 = ourols(log(eup))\n",
    "res1.summary()"
   ]
  },
  {
   "cell_type": "markdown",
   "metadata": {},
   "source": [
    "### 면 (log-level)"
   ]
  },
  {
   "cell_type": "code",
   "execution_count": null,
   "metadata": {
    "scrolled": true
   },
   "outputs": [],
   "source": [
    "res2 = ourols(log(myun))\n",
    "res2.summary()"
   ]
  },
  {
   "cell_type": "markdown",
   "metadata": {},
   "source": [
    "### 동 (log-level)"
   ]
  },
  {
   "cell_type": "code",
   "execution_count": null,
   "metadata": {
    "scrolled": true
   },
   "outputs": [],
   "source": [
    "res3 = ourols(log(dong))\n",
    "res3.summary()"
   ]
  },
  {
   "cell_type": "markdown",
   "metadata": {},
   "source": [
    "## 4) Oaxaca-Blinder Decomposition"
   ]
  },
  {
   "cell_type": "markdown",
   "metadata": {},
   "source": [
    "- 선형회귀계수를 이용해 격차를 세 가지 부분으로 분해해 격차의 발생요인을 설명하는 분석 방법\n",
    "\n",
    "- 가격 격차가 어디서 기인하는지 분석하기 위해 Oaxaca-Blinder 분해법 적용"
   ]
  },
  {
   "cell_type": "markdown",
   "metadata": {},
   "source": [
    "### Preprocessing"
   ]
  },
  {
   "cell_type": "code",
   "execution_count": null,
   "metadata": {
    "scrolled": true
   },
   "outputs": [],
   "source": [
    "# 읍 X와 y값 지정.\n",
    "X_eup=log(eup)[['log생활지수','log안전지수','log교통지수','순전입자수']]\n",
    "y_eup=log(eup)['공시지가']\n",
    "\n",
    "# 면 X와 y값 지정.\n",
    "X_myun=log(myun)[['log생활지수','log안전지수','log교통지수','순전입자수']]\n",
    "y_myun=log(myun)['공시지가']\n",
    "\n",
    "# 동 X와 y값 지정.\n",
    "X_dong=log(dong)[['log생활지수','log안전지수','log교통지수','순전입자수']]\n",
    "y_dong=log(dong)['공시지가']"
   ]
  },
  {
   "cell_type": "code",
   "execution_count": null,
   "metadata": {
    "scrolled": true
   },
   "outputs": [],
   "source": [
    "# 읍, 면 vs 동 Beta(coefficient)계수 벡터화\n",
    "b_eup = np.asarray(res1.params[1:])\n",
    "b_myun = np.asarray(res2.params[1:])\n",
    "b_dong = np.asarray(res3.params[1:])"
   ]
  },
  {
   "cell_type": "code",
   "execution_count": null,
   "metadata": {
    "scrolled": true
   },
   "outputs": [],
   "source": [
    "# 읍, 면 vs 동 독립변수 mean 벡터화\n",
    "x_eup = np.asarray(X_eup.mean())\n",
    "x_myun = np.asarray(X_myun.mean())\n",
    "x_dong = np.asarray(X_dong.mean())"
   ]
  },
  {
   "cell_type": "code",
   "execution_count": null,
   "metadata": {
    "scrolled": true
   },
   "outputs": [],
   "source": [
    "print('읍 공시지가 평균: ',y_eup.mean())\n",
    "print('면 공시지가 평균: ',y_myun.mean())\n",
    "print('동 공시지가 평균: ',y_dong.mean())"
   ]
  },
  {
   "cell_type": "markdown",
   "metadata": {},
   "source": [
    "### Modeling"
   ]
  },
  {
   "cell_type": "markdown",
   "metadata": {},
   "source": [
    "- Endowments: 설명 변수 차이로 인해 발생하는 격차\n",
    "\n",
    "- Coefficients: 각 그룹의 회귀 계수 차이로 인해 발생하는 격차\n",
    "\n",
    "- Interaction: 모델로 설명할 수 없는 부분 (잔차)"
   ]
  },
  {
   "cell_type": "code",
   "execution_count": null,
   "metadata": {
    "scrolled": true
   },
   "outputs": [],
   "source": [
    "def oaxaca(x1, x2, b1, b2):\n",
    "    \n",
    "    X=x1-x2\n",
    "    B=b1-b2\n",
    "    \n",
    "    endowments=[]\n",
    "    coefficients=[]\n",
    "    interaction=[]\n",
    "    \n",
    "    for i in range(4):\n",
    "        endowments.append(X[i]*b2[i])\n",
    "        coefficients.append(x2[i]*B[i])\n",
    "        interaction.append(X[i]*B[i])\n",
    "    df = DataFrame()\n",
    "    df['endowments'] = endowments\n",
    "    df['coefficents'] = coefficients\n",
    "    df['interaction'] = interaction\n",
    "    df['variable'] = ['loglife','logsafety','logtransport','순전입자수']\n",
    "    df = df.set_index('variable')\n",
    "    df2 = DataFrame(df.transpose())\n",
    "    df2['sum'] = df.sum()\n",
    "    return df2"
   ]
  },
  {
   "cell_type": "code",
   "execution_count": null,
   "metadata": {
    "scrolled": true
   },
   "outputs": [],
   "source": [
    "oaxaca(x_dong, x_myun, b_dong, b_myun)"
   ]
  },
  {
   "cell_type": "code",
   "execution_count": null,
   "metadata": {
    "scrolled": true
   },
   "outputs": [],
   "source": [
    "oaxaca(x_dong, x_eup, b_dong, b_eup)"
   ]
  }
 ],
 "metadata": {
  "kernelspec": {
   "display_name": "Python 3",
   "language": "python",
   "name": "python3"
  },
  "language_info": {
   "codemirror_mode": {
    "name": "ipython",
    "version": 3
   },
   "file_extension": ".py",
   "mimetype": "text/x-python",
   "name": "python",
   "nbconvert_exporter": "python",
   "pygments_lexer": "ipython3",
   "version": "3.8.2"
  }
 },
 "nbformat": 4,
 "nbformat_minor": 4
}
